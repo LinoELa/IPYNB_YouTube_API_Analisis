{
 "cells": [
  {
   "cell_type": "code",
   "execution_count": 53,
   "metadata": {},
   "outputs": [],
   "source": [
    "# "
   ]
  },
  {
   "cell_type": "code",
   "execution_count": 54,
   "metadata": {},
   "outputs": [],
   "source": [
    "\n",
    "import googleapiclient.discovery\n",
    "import googleapiclient.errors\n",
    "from IPython.display import JSON\n",
    "import pandas as pd "
   ]
  },
  {
   "cell_type": "code",
   "execution_count": null,
   "metadata": {},
   "outputs": [],
   "source": [
    "api_key = \"Poner mi APi aqui \""
   ]
  },
  {
   "cell_type": "markdown",
   "metadata": {},
   "source": [
    "#### ID Canal YouTube \n",
    "\n",
    "Para encontar el id del un canal es is al canal y la parte principal \n",
    "pulsas CTLR + U y buscar CTRL + F  : browse_id\n",
    "\n",
    "- Video Completo : https://www.youtube.com/watch?v=Q2828ldk0Uc\n"
   ]
  },
  {
   "cell_type": "markdown",
   "metadata": {},
   "source": []
  },
  {
   "cell_type": "code",
   "execution_count": 56,
   "metadata": {},
   "outputs": [],
   "source": [
    "channel_ids = [\"UCaY_-ksFSQtTGk0y1HA_3YQ\", \n",
    "                #Ibai\n",
    "                \"UCiyKCDvsHhXtGo0CuQIy8oQ\", \n",
    "                #Yo\n",
    "               ]"
   ]
  },
  {
   "cell_type": "code",
   "execution_count": 57,
   "metadata": {},
   "outputs": [],
   "source": [
    "api_service_name = \"youtube\"\n",
    "api_version = \"v3\"\n",
    "\n",
    "youtube = googleapiclient.discovery.build(\n",
    "    api_service_name,api_version,developerKey=api_key\n",
    "    )\n"
   ]
  },
  {
   "cell_type": "code",
   "execution_count": 58,
   "metadata": {},
   "outputs": [],
   "source": [
    "def get_channel_stats(youtube, channel_ids):\n",
    "\n",
    "    all_data = []\n",
    "\n",
    "    request = youtube.channels().list(\n",
    "        part=\"snippet,contentDetails,statistics\",\n",
    "        id=\",\".join(channel_ids)\n",
    "        )\n",
    "    \n",
    "    response = request.execute()\n",
    "\n",
    "\n",
    "    #loop de los elementos\n",
    "    for item in response ['items']:\n",
    "        data = {\n",
    "            'channelName': item['snippet']['title'],\n",
    "            'subscribers': item['statistics']['subscriberCount'],\n",
    "            'views': item[\"statistics\"]['viewCount'],\n",
    "            'totalViews':item['statistics']['videoCount'],\n",
    "            'playlistId':item['contentDetails']['relatedPlaylists']['uploads']\n",
    "        }\n",
    "\n",
    "        all_data.append(data)\n",
    "\n",
    "    return (pd.DataFrame(all_data))\n",
    "\n",
    "    # JSON(response)"
   ]
  },
  {
   "cell_type": "code",
   "execution_count": 59,
   "metadata": {},
   "outputs": [],
   "source": [
    "channel_stats = get_channel_stats(youtube, channel_ids)"
   ]
  },
  {
   "cell_type": "code",
   "execution_count": 60,
   "metadata": {},
   "outputs": [
    {
     "data": {
      "text/html": [
       "<div>\n",
       "<style scoped>\n",
       "    .dataframe tbody tr th:only-of-type {\n",
       "        vertical-align: middle;\n",
       "    }\n",
       "\n",
       "    .dataframe tbody tr th {\n",
       "        vertical-align: top;\n",
       "    }\n",
       "\n",
       "    .dataframe thead th {\n",
       "        text-align: right;\n",
       "    }\n",
       "</style>\n",
       "<table border=\"1\" class=\"dataframe\">\n",
       "  <thead>\n",
       "    <tr style=\"text-align: right;\">\n",
       "      <th></th>\n",
       "      <th>channelName</th>\n",
       "      <th>subscribers</th>\n",
       "      <th>views</th>\n",
       "      <th>totalViews</th>\n",
       "      <th>playlistId</th>\n",
       "    </tr>\n",
       "  </thead>\n",
       "  <tbody>\n",
       "    <tr>\n",
       "      <th>0</th>\n",
       "      <td>Lino Ela</td>\n",
       "      <td>517</td>\n",
       "      <td>222369</td>\n",
       "      <td>92</td>\n",
       "      <td>UUiyKCDvsHhXtGo0CuQIy8oQ</td>\n",
       "    </tr>\n",
       "    <tr>\n",
       "      <th>1</th>\n",
       "      <td>Ibai</td>\n",
       "      <td>12200000</td>\n",
       "      <td>3834701998</td>\n",
       "      <td>1672</td>\n",
       "      <td>UUaY_-ksFSQtTGk0y1HA_3YQ</td>\n",
       "    </tr>\n",
       "  </tbody>\n",
       "</table>\n",
       "</div>"
      ],
      "text/plain": [
       "  channelName subscribers       views totalViews                playlistId\n",
       "0    Lino Ela         517      222369         92  UUiyKCDvsHhXtGo0CuQIy8oQ\n",
       "1        Ibai    12200000  3834701998       1672  UUaY_-ksFSQtTGk0y1HA_3YQ"
      ]
     },
     "execution_count": 60,
     "metadata": {},
     "output_type": "execute_result"
    }
   ],
   "source": [
    "channel_stats"
   ]
  },
  {
   "cell_type": "code",
   "execution_count": 66,
   "metadata": {},
   "outputs": [],
   "source": [
    "#playlist de videos \n",
    "\n",
    "playlist_id = \"UUaY_-ksFSQtTGk0y1HA_3YQ\"\n",
    "\n",
    "def get_video_ids(youtube, playlist_id):\n",
    "\n",
    "    video_ids = []\n",
    "\n",
    "    request = youtube.playlistItems().list(\n",
    "        part=\"snippet,contentDetails\",\n",
    "        playlistId=\"UUaY_-ksFSQtTGk0y1HA_3YQ\",\n",
    "        maxResults = 15\n",
    "    )\n",
    "    \n",
    "    response = request.execute()\n",
    "\n",
    "    for item in response['items']:\n",
    "        video_ids.append(item['contentDetails']['videoId'])\n",
    "\n",
    "    next_page_token = response.get(\"nextPageToken\")\n",
    "\n",
    "    while next_page_token is not None:\n",
    "        request = youtube.playlistItems().list(\n",
    "            part=\"snippet,contentDetails\",\n",
    "            playlistId=\"UUaY_-ksFSQtTGk0y1HA_3YQ\",\n",
    "            maxResults = 50,\n",
    "            pageToken = next_page_token\n",
    "            )\n",
    "        \n",
    "    response = request.execute()\n",
    "\n",
    "    for item in response['items']:\n",
    "        video_ids.append(item['contentDetails']['videoId'])\n",
    "\n",
    "    next_page_token = response.get(\"nextPageToken\")\n",
    "\n",
    "    return video_ids\n",
    "\n"
   ]
  },
  {
   "cell_type": "code",
   "execution_count": 67,
   "metadata": {},
   "outputs": [
    {
     "ename": "KeyboardInterrupt",
     "evalue": "",
     "output_type": "error",
     "traceback": [
      "\u001b[1;31m---------------------------------------------------------------------------\u001b[0m",
      "\u001b[1;31mKeyboardInterrupt\u001b[0m                         Traceback (most recent call last)",
      "Cell \u001b[1;32mIn[67], line 1\u001b[0m\n\u001b[1;32m----> 1\u001b[0m video_ids \u001b[38;5;241m=\u001b[39m \u001b[43mget_video_ids\u001b[49m\u001b[43m(\u001b[49m\u001b[43myoutube\u001b[49m\u001b[43m,\u001b[49m\u001b[43mplaylist_id\u001b[49m\u001b[43m)\u001b[49m\n",
      "Cell \u001b[1;32mIn[66], line 23\u001b[0m, in \u001b[0;36mget_video_ids\u001b[1;34m(youtube, playlist_id)\u001b[0m\n\u001b[0;32m     20\u001b[0m next_page_token \u001b[38;5;241m=\u001b[39m response\u001b[38;5;241m.\u001b[39mget(\u001b[38;5;124m\"\u001b[39m\u001b[38;5;124mnextPageToken\u001b[39m\u001b[38;5;124m\"\u001b[39m)\n\u001b[0;32m     22\u001b[0m \u001b[38;5;28;01mwhile\u001b[39;00m next_page_token \u001b[38;5;129;01mis\u001b[39;00m \u001b[38;5;129;01mnot\u001b[39;00m \u001b[38;5;28;01mNone\u001b[39;00m:\n\u001b[1;32m---> 23\u001b[0m     request \u001b[38;5;241m=\u001b[39m \u001b[43myoutube\u001b[49m\u001b[38;5;241;43m.\u001b[39;49m\u001b[43mplaylistItems\u001b[49m\u001b[43m(\u001b[49m\u001b[43m)\u001b[49m\u001b[38;5;241m.\u001b[39mlist(\n\u001b[0;32m     24\u001b[0m         part\u001b[38;5;241m=\u001b[39m\u001b[38;5;124m\"\u001b[39m\u001b[38;5;124msnippet,contentDetails\u001b[39m\u001b[38;5;124m\"\u001b[39m,\n\u001b[0;32m     25\u001b[0m         playlistId\u001b[38;5;241m=\u001b[39m\u001b[38;5;124m\"\u001b[39m\u001b[38;5;124mUUaY_-ksFSQtTGk0y1HA_3YQ\u001b[39m\u001b[38;5;124m\"\u001b[39m,\n\u001b[0;32m     26\u001b[0m         maxResults \u001b[38;5;241m=\u001b[39m \u001b[38;5;241m50\u001b[39m,\n\u001b[0;32m     27\u001b[0m         pageToken \u001b[38;5;241m=\u001b[39m next_page_token\n\u001b[0;32m     28\u001b[0m         )\n\u001b[0;32m     30\u001b[0m response \u001b[38;5;241m=\u001b[39m request\u001b[38;5;241m.\u001b[39mexecute()\n\u001b[0;32m     32\u001b[0m \u001b[38;5;28;01mfor\u001b[39;00m item \u001b[38;5;129;01min\u001b[39;00m response[\u001b[38;5;124m'\u001b[39m\u001b[38;5;124mitems\u001b[39m\u001b[38;5;124m'\u001b[39m]:\n",
      "File \u001b[1;32mc:\\Users\\Ela\\.conda\\envs\\DataAnalysis\\Lib\\site-packages\\googleapiclient\\discovery.py:1554\u001b[0m, in \u001b[0;36mResource._add_nested_resources.<locals>.createResourceMethod.<locals>.methodResource\u001b[1;34m(self)\u001b[0m\n\u001b[0;32m   1553\u001b[0m \u001b[38;5;28;01mdef\u001b[39;00m \u001b[38;5;21mmethodResource\u001b[39m(\u001b[38;5;28mself\u001b[39m):\n\u001b[1;32m-> 1554\u001b[0m     \u001b[38;5;28;01mreturn\u001b[39;00m \u001b[43mResource\u001b[49m\u001b[43m(\u001b[49m\n\u001b[0;32m   1555\u001b[0m \u001b[43m        \u001b[49m\u001b[43mhttp\u001b[49m\u001b[38;5;241;43m=\u001b[39;49m\u001b[38;5;28;43mself\u001b[39;49m\u001b[38;5;241;43m.\u001b[39;49m\u001b[43m_http\u001b[49m\u001b[43m,\u001b[49m\n\u001b[0;32m   1556\u001b[0m \u001b[43m        \u001b[49m\u001b[43mbaseUrl\u001b[49m\u001b[38;5;241;43m=\u001b[39;49m\u001b[38;5;28;43mself\u001b[39;49m\u001b[38;5;241;43m.\u001b[39;49m\u001b[43m_baseUrl\u001b[49m\u001b[43m,\u001b[49m\n\u001b[0;32m   1557\u001b[0m \u001b[43m        \u001b[49m\u001b[43mmodel\u001b[49m\u001b[38;5;241;43m=\u001b[39;49m\u001b[38;5;28;43mself\u001b[39;49m\u001b[38;5;241;43m.\u001b[39;49m\u001b[43m_model\u001b[49m\u001b[43m,\u001b[49m\n\u001b[0;32m   1558\u001b[0m \u001b[43m        \u001b[49m\u001b[43mdeveloperKey\u001b[49m\u001b[38;5;241;43m=\u001b[39;49m\u001b[38;5;28;43mself\u001b[39;49m\u001b[38;5;241;43m.\u001b[39;49m\u001b[43m_developerKey\u001b[49m\u001b[43m,\u001b[49m\n\u001b[0;32m   1559\u001b[0m \u001b[43m        \u001b[49m\u001b[43mrequestBuilder\u001b[49m\u001b[38;5;241;43m=\u001b[39;49m\u001b[38;5;28;43mself\u001b[39;49m\u001b[38;5;241;43m.\u001b[39;49m\u001b[43m_requestBuilder\u001b[49m\u001b[43m,\u001b[49m\n\u001b[0;32m   1560\u001b[0m \u001b[43m        \u001b[49m\u001b[43mresourceDesc\u001b[49m\u001b[38;5;241;43m=\u001b[39;49m\u001b[43mmethodDesc\u001b[49m\u001b[43m,\u001b[49m\n\u001b[0;32m   1561\u001b[0m \u001b[43m        \u001b[49m\u001b[43mrootDesc\u001b[49m\u001b[38;5;241;43m=\u001b[39;49m\u001b[43mrootDesc\u001b[49m\u001b[43m,\u001b[49m\n\u001b[0;32m   1562\u001b[0m \u001b[43m        \u001b[49m\u001b[43mschema\u001b[49m\u001b[38;5;241;43m=\u001b[39;49m\u001b[43mschema\u001b[49m\u001b[43m,\u001b[49m\n\u001b[0;32m   1563\u001b[0m \u001b[43m        \u001b[49m\u001b[43muniverse_domain\u001b[49m\u001b[38;5;241;43m=\u001b[39;49m\u001b[38;5;28;43mself\u001b[39;49m\u001b[38;5;241;43m.\u001b[39;49m\u001b[43m_universe_domain\u001b[49m\u001b[43m,\u001b[49m\n\u001b[0;32m   1564\u001b[0m \u001b[43m    \u001b[49m\u001b[43m)\u001b[49m\n",
      "File \u001b[1;32mc:\\Users\\Ela\\.conda\\envs\\DataAnalysis\\Lib\\site-packages\\googleapiclient\\discovery.py:1442\u001b[0m, in \u001b[0;36mResource.__init__\u001b[1;34m(self, http, baseUrl, model, requestBuilder, developerKey, resourceDesc, rootDesc, schema, universe_domain)\u001b[0m\n\u001b[0;32m   1439\u001b[0m \u001b[38;5;28mself\u001b[39m\u001b[38;5;241m.\u001b[39m_universe_domain \u001b[38;5;241m=\u001b[39m universe_domain\n\u001b[0;32m   1440\u001b[0m \u001b[38;5;28mself\u001b[39m\u001b[38;5;241m.\u001b[39m_credentials_validated \u001b[38;5;241m=\u001b[39m \u001b[38;5;28;01mFalse\u001b[39;00m\n\u001b[1;32m-> 1442\u001b[0m \u001b[38;5;28;43mself\u001b[39;49m\u001b[38;5;241;43m.\u001b[39;49m\u001b[43m_set_service_methods\u001b[49m\u001b[43m(\u001b[49m\u001b[43m)\u001b[49m\n",
      "File \u001b[1;32mc:\\Users\\Ela\\.conda\\envs\\DataAnalysis\\Lib\\site-packages\\googleapiclient\\discovery.py:1490\u001b[0m, in \u001b[0;36mResource._set_service_methods\u001b[1;34m(self)\u001b[0m\n\u001b[0;32m   1489\u001b[0m \u001b[38;5;28;01mdef\u001b[39;00m \u001b[38;5;21m_set_service_methods\u001b[39m(\u001b[38;5;28mself\u001b[39m):\n\u001b[1;32m-> 1490\u001b[0m     \u001b[38;5;28;43mself\u001b[39;49m\u001b[38;5;241;43m.\u001b[39;49m\u001b[43m_add_basic_methods\u001b[49m\u001b[43m(\u001b[49m\u001b[38;5;28;43mself\u001b[39;49m\u001b[38;5;241;43m.\u001b[39;49m\u001b[43m_resourceDesc\u001b[49m\u001b[43m,\u001b[49m\u001b[43m \u001b[49m\u001b[38;5;28;43mself\u001b[39;49m\u001b[38;5;241;43m.\u001b[39;49m\u001b[43m_rootDesc\u001b[49m\u001b[43m,\u001b[49m\u001b[43m \u001b[49m\u001b[38;5;28;43mself\u001b[39;49m\u001b[38;5;241;43m.\u001b[39;49m\u001b[43m_schema\u001b[49m\u001b[43m)\u001b[49m\n\u001b[0;32m   1491\u001b[0m     \u001b[38;5;28mself\u001b[39m\u001b[38;5;241m.\u001b[39m_add_nested_resources(\u001b[38;5;28mself\u001b[39m\u001b[38;5;241m.\u001b[39m_resourceDesc, \u001b[38;5;28mself\u001b[39m\u001b[38;5;241m.\u001b[39m_rootDesc, \u001b[38;5;28mself\u001b[39m\u001b[38;5;241m.\u001b[39m_schema)\n\u001b[0;32m   1492\u001b[0m     \u001b[38;5;28mself\u001b[39m\u001b[38;5;241m.\u001b[39m_add_next_methods(\u001b[38;5;28mself\u001b[39m\u001b[38;5;241m.\u001b[39m_resourceDesc, \u001b[38;5;28mself\u001b[39m\u001b[38;5;241m.\u001b[39m_schema)\n",
      "File \u001b[1;32mc:\\Users\\Ela\\.conda\\envs\\DataAnalysis\\Lib\\site-packages\\googleapiclient\\discovery.py:1523\u001b[0m, in \u001b[0;36mResource._add_basic_methods\u001b[1;34m(self, resourceDesc, rootDesc, schema)\u001b[0m\n\u001b[0;32m   1521\u001b[0m \u001b[38;5;28;01mif\u001b[39;00m \u001b[38;5;124m\"\u001b[39m\u001b[38;5;124mmethods\u001b[39m\u001b[38;5;124m\"\u001b[39m \u001b[38;5;129;01min\u001b[39;00m resourceDesc:\n\u001b[0;32m   1522\u001b[0m     \u001b[38;5;28;01mfor\u001b[39;00m methodName, methodDesc \u001b[38;5;129;01min\u001b[39;00m resourceDesc[\u001b[38;5;124m\"\u001b[39m\u001b[38;5;124mmethods\u001b[39m\u001b[38;5;124m\"\u001b[39m]\u001b[38;5;241m.\u001b[39mitems():\n\u001b[1;32m-> 1523\u001b[0m         fixedMethodName, method \u001b[38;5;241m=\u001b[39m \u001b[43mcreateMethod\u001b[49m\u001b[43m(\u001b[49m\n\u001b[0;32m   1524\u001b[0m \u001b[43m            \u001b[49m\u001b[43mmethodName\u001b[49m\u001b[43m,\u001b[49m\u001b[43m \u001b[49m\u001b[43mmethodDesc\u001b[49m\u001b[43m,\u001b[49m\u001b[43m \u001b[49m\u001b[43mrootDesc\u001b[49m\u001b[43m,\u001b[49m\u001b[43m \u001b[49m\u001b[43mschema\u001b[49m\n\u001b[0;32m   1525\u001b[0m \u001b[43m        \u001b[49m\u001b[43m)\u001b[49m\n\u001b[0;32m   1526\u001b[0m         \u001b[38;5;28mself\u001b[39m\u001b[38;5;241m.\u001b[39m_set_dynamic_attr(\n\u001b[0;32m   1527\u001b[0m             fixedMethodName, method\u001b[38;5;241m.\u001b[39m\u001b[38;5;21m__get__\u001b[39m(\u001b[38;5;28mself\u001b[39m, \u001b[38;5;28mself\u001b[39m\u001b[38;5;241m.\u001b[39m\u001b[38;5;18m__class__\u001b[39m)\n\u001b[0;32m   1528\u001b[0m         )\n\u001b[0;32m   1529\u001b[0m         \u001b[38;5;66;03m# Add in _media methods. The functionality of the attached method will\u001b[39;00m\n\u001b[0;32m   1530\u001b[0m         \u001b[38;5;66;03m# change when it sees that the method name ends in _media.\u001b[39;00m\n",
      "File \u001b[1;32mc:\\Users\\Ela\\.conda\\envs\\DataAnalysis\\Lib\\site-packages\\googleapiclient\\discovery.py:1089\u001b[0m, in \u001b[0;36mcreateMethod\u001b[1;34m(methodName, methodDesc, rootDesc, schema)\u001b[0m\n\u001b[0;32m   1079\u001b[0m methodName \u001b[38;5;241m=\u001b[39m fix_method_name(methodName)\n\u001b[0;32m   1080\u001b[0m (\n\u001b[0;32m   1081\u001b[0m     pathUrl,\n\u001b[0;32m   1082\u001b[0m     httpMethod,\n\u001b[1;32m   (...)\u001b[0m\n\u001b[0;32m   1086\u001b[0m     mediaPathUrl,\n\u001b[0;32m   1087\u001b[0m ) \u001b[38;5;241m=\u001b[39m _fix_up_method_description(methodDesc, rootDesc, schema)\n\u001b[1;32m-> 1089\u001b[0m parameters \u001b[38;5;241m=\u001b[39m \u001b[43mResourceMethodParameters\u001b[49m\u001b[43m(\u001b[49m\u001b[43mmethodDesc\u001b[49m\u001b[43m)\u001b[49m\n\u001b[0;32m   1091\u001b[0m \u001b[38;5;28;01mdef\u001b[39;00m \u001b[38;5;21mmethod\u001b[39m(\u001b[38;5;28mself\u001b[39m, \u001b[38;5;241m*\u001b[39m\u001b[38;5;241m*\u001b[39mkwargs):\n\u001b[0;32m   1092\u001b[0m     \u001b[38;5;66;03m# Don't bother with doc string, it will be over-written by createMethod.\u001b[39;00m\n\u001b[0;32m   1093\u001b[0m \n\u001b[0;32m   1094\u001b[0m     \u001b[38;5;66;03m# Validate credentials for the configured universe.\u001b[39;00m\n\u001b[0;32m   1095\u001b[0m     \u001b[38;5;28mself\u001b[39m\u001b[38;5;241m.\u001b[39m_validate_credentials()\n",
      "File \u001b[1;32mc:\\Users\\Ela\\.conda\\envs\\DataAnalysis\\Lib\\site-packages\\googleapiclient\\discovery.py:1025\u001b[0m, in \u001b[0;36mResourceMethodParameters.__init__\u001b[1;34m(self, method_desc)\u001b[0m\n\u001b[0;32m   1022\u001b[0m \u001b[38;5;28mself\u001b[39m\u001b[38;5;241m.\u001b[39mparam_types \u001b[38;5;241m=\u001b[39m {}\n\u001b[0;32m   1023\u001b[0m \u001b[38;5;28mself\u001b[39m\u001b[38;5;241m.\u001b[39menum_params \u001b[38;5;241m=\u001b[39m {}\n\u001b[1;32m-> 1025\u001b[0m \u001b[38;5;28;43mself\u001b[39;49m\u001b[38;5;241;43m.\u001b[39;49m\u001b[43mset_parameters\u001b[49m\u001b[43m(\u001b[49m\u001b[43mmethod_desc\u001b[49m\u001b[43m)\u001b[49m\n",
      "File \u001b[1;32mc:\\Users\\Ela\\.conda\\envs\\DataAnalysis\\Lib\\site-packages\\googleapiclient\\discovery.py:1039\u001b[0m, in \u001b[0;36mResourceMethodParameters.set_parameters\u001b[1;34m(self, method_desc)\u001b[0m\n\u001b[0;32m   1028\u001b[0m \u001b[38;5;250m\u001b[39m\u001b[38;5;124;03m\"\"\"Populates maps and lists based on method description.\u001b[39;00m\n\u001b[0;32m   1029\u001b[0m \n\u001b[0;32m   1030\u001b[0m \u001b[38;5;124;03mIterates through each parameter for the method and parses the values from\u001b[39;00m\n\u001b[1;32m   (...)\u001b[0m\n\u001b[0;32m   1036\u001b[0m \u001b[38;5;124;03m      the deserialized discovery document.\u001b[39;00m\n\u001b[0;32m   1037\u001b[0m \u001b[38;5;124;03m\"\"\"\u001b[39;00m\n\u001b[0;32m   1038\u001b[0m parameters \u001b[38;5;241m=\u001b[39m method_desc\u001b[38;5;241m.\u001b[39mget(\u001b[38;5;124m\"\u001b[39m\u001b[38;5;124mparameters\u001b[39m\u001b[38;5;124m\"\u001b[39m, {})\n\u001b[1;32m-> 1039\u001b[0m sorted_parameters \u001b[38;5;241m=\u001b[39m \u001b[43mOrderedDict\u001b[49m\u001b[43m(\u001b[49m\u001b[38;5;28;43msorted\u001b[39;49m\u001b[43m(\u001b[49m\u001b[43mparameters\u001b[49m\u001b[38;5;241;43m.\u001b[39;49m\u001b[43mitems\u001b[49m\u001b[43m(\u001b[49m\u001b[43m)\u001b[49m\u001b[43m)\u001b[49m\u001b[43m)\u001b[49m\n\u001b[0;32m   1040\u001b[0m \u001b[38;5;28;01mfor\u001b[39;00m arg, desc \u001b[38;5;129;01min\u001b[39;00m sorted_parameters\u001b[38;5;241m.\u001b[39mitems():\n\u001b[0;32m   1041\u001b[0m     param \u001b[38;5;241m=\u001b[39m key2param(arg)\n",
      "\u001b[1;31mKeyboardInterrupt\u001b[0m: "
     ]
    }
   ],
   "source": [
    "video_ids = get_video_ids(youtube,playlist_id)"
   ]
  },
  {
   "cell_type": "code",
   "execution_count": null,
   "metadata": {},
   "outputs": [
    {
     "data": {
      "text/plain": [
       "['YiiYrdM7CGs', '64BaBMUYiDg', 'wxj-10sctYs', 'kXncKO2wedA', 'lEop6nQ-Paw']"
      ]
     },
     "execution_count": 51,
     "metadata": {},
     "output_type": "execute_result"
    }
   ],
   "source": [
    "len(video_ids)"
   ]
  },
  {
   "cell_type": "markdown",
   "metadata": {},
   "source": [
    "### Obtner los Comentarios de los video"
   ]
  },
  {
   "cell_type": "code",
   "execution_count": 76,
   "metadata": {},
   "outputs": [],
   "source": [
    "def get_comments_in_videos(youtube, video_ids):\n",
    "    all_comments = []\n",
    "\n",
    "    for video_id in video_ids:\n",
    "        request = youtube.commentThreads().list(\n",
    "            part = 'snippet, replies',\n",
    "            videoId = video_id\n",
    "        )\n",
    "\n",
    "        response = request.execute()\n",
    "\n",
    "        comments_in_video = [comment ['snippet']['topLevelComment']['snippet']['textOriginal']for comment in response['items'][0:10]]\n",
    "        comments_in_video_info = {\n",
    "            'video_id': video_id,\n",
    "            'comments': comments_in_video\n",
    "        }\n",
    "\n",
    "        all_comments.append(comments_in_video_info)\n",
    "    \n",
    "    return pd.DataFrame(all_comments)\n",
    "\n"
   ]
  },
  {
   "cell_type": "code",
   "execution_count": 77,
   "metadata": {},
   "outputs": [
    {
     "data": {
      "text/html": [
       "<div>\n",
       "<style scoped>\n",
       "    .dataframe tbody tr th:only-of-type {\n",
       "        vertical-align: middle;\n",
       "    }\n",
       "\n",
       "    .dataframe tbody tr th {\n",
       "        vertical-align: top;\n",
       "    }\n",
       "\n",
       "    .dataframe thead th {\n",
       "        text-align: right;\n",
       "    }\n",
       "</style>\n",
       "<table border=\"1\" class=\"dataframe\">\n",
       "  <thead>\n",
       "    <tr style=\"text-align: right;\">\n",
       "      <th></th>\n",
       "      <th>video_id</th>\n",
       "      <th>comments</th>\n",
       "    </tr>\n",
       "  </thead>\n",
       "  <tbody>\n",
       "    <tr>\n",
       "      <th>0</th>\n",
       "      <td>YiiYrdM7CGs</td>\n",
       "      <td>[Está mejorando su pronunciación y eso es muy ...</td>\n",
       "    </tr>\n",
       "    <tr>\n",
       "      <th>1</th>\n",
       "      <td>64BaBMUYiDg</td>\n",
       "      <td>[Publicidad para gta 6? 🤓, Tremendo el gta6 😮,...</td>\n",
       "    </tr>\n",
       "    <tr>\n",
       "      <th>2</th>\n",
       "      <td>wxj-10sctYs</td>\n",
       "      <td>[El truco es echarle a las galletas los sobres...</td>\n",
       "    </tr>\n",
       "    <tr>\n",
       "      <th>3</th>\n",
       "      <td>kXncKO2wedA</td>\n",
       "      <td>[Soñe que un dia ibai diria vamos a caminar 12...</td>\n",
       "    </tr>\n",
       "    <tr>\n",
       "      <th>4</th>\n",
       "      <td>lEop6nQ-Paw</td>\n",
       "      <td>[\"Nunca se sabe si hay una invasión marroquí \"...</td>\n",
       "    </tr>\n",
       "  </tbody>\n",
       "</table>\n",
       "</div>"
      ],
      "text/plain": [
       "      video_id                                           comments\n",
       "0  YiiYrdM7CGs  [Está mejorando su pronunciación y eso es muy ...\n",
       "1  64BaBMUYiDg  [Publicidad para gta 6? 🤓, Tremendo el gta6 😮,...\n",
       "2  wxj-10sctYs  [El truco es echarle a las galletas los sobres...\n",
       "3  kXncKO2wedA  [Soñe que un dia ibai diria vamos a caminar 12...\n",
       "4  lEop6nQ-Paw  [\"Nunca se sabe si hay una invasión marroquí \"..."
      ]
     },
     "execution_count": 77,
     "metadata": {},
     "output_type": "execute_result"
    }
   ],
   "source": [
    "comments_df = get_comments_in_videos(youtube, video_ids)\n",
    "comments_df"
   ]
  },
  {
   "cell_type": "code",
   "execution_count": 78,
   "metadata": {},
   "outputs": [
    {
     "data": {
      "text/plain": [
       "['Está mejorando su pronunciación y eso es muy bueno! Pero Ibai, in Spain and Latin America we speak spanish, not english 😅',\n",
       " 'El Klk de ray😂😂',\n",
       " 'Grande ibai',\n",
       " 'Hello ibai',\n",
       " 'Gigante noble en accion🔥👑',\n",
       " 'Ojalá hubiera mandado a Kike otra vez',\n",
       " 'Klk ya tu sabe',\n",
       " '“Para toda la gente de España y Latinoamérica” *procede a hablar en inglés*',\n",
       " 'Que humilde Ibai',\n",
       " 'Your videos are not just content, they are stories that stay in the heart. Keep inspiring us!♠️🤞🍪']"
      ]
     },
     "execution_count": 78,
     "metadata": {},
     "output_type": "execute_result"
    }
   ],
   "source": [
    "comments_df['comments'][0]"
   ]
  },
  {
   "cell_type": "markdown",
   "metadata": {},
   "source": [
    "### Estadisticas de Videos"
   ]
  },
  {
   "cell_type": "code",
   "execution_count": null,
   "metadata": {},
   "outputs": [],
   "source": [
    "#Estadisticas de Videos \n",
    "\n",
    "def get_video_details(youtube, video_ids):\n",
    "\n",
    "    all_video_info = []\n",
    "\n",
    "    for i in range(0, len(video_ids),50):\n",
    "        request = youtube.videos().list(\n",
    "            part='Snippet,contentDetails, statistics',\n",
    "            id=','.join(video_ids[i:i+50])\n",
    "        )\n",
    "\n",
    "        response = request.execute()\n",
    "\n",
    "        for video in response['items']:\n",
    "            stats_to_keep = {\n",
    "                'snippet': ['channelTitle', 'title', 'description', 'tags', 'publishedAt'],\n",
    "                'statistics':['viewCount', 'likeCount', 'favouriteCount', 'commentCount'],\n",
    "                'contentDetails':['duration', 'definition', 'caption']\n",
    "            }\n",
    "\n",
    "            video_info = {}\n",
    "            video_info['video_id'] = video['id']\n",
    "\n",
    "            for k in stats_to_keep.keys():\n",
    "                for v in stats_to_keep[k]:\n",
    "                    try:\n",
    "                        video_info[v] = video[k][v]\n",
    "                    except Exception: \n",
    "                        video_info[v] = None\n",
    "                        \n",
    "\n",
    "            all_video_info.append(video_info)\n",
    "\n",
    "    return pd.DataFrame(all_video_info)"
   ]
  },
  {
   "cell_type": "code",
   "execution_count": 71,
   "metadata": {},
   "outputs": [
    {
     "data": {
      "text/html": [
       "<div>\n",
       "<style scoped>\n",
       "    .dataframe tbody tr th:only-of-type {\n",
       "        vertical-align: middle;\n",
       "    }\n",
       "\n",
       "    .dataframe tbody tr th {\n",
       "        vertical-align: top;\n",
       "    }\n",
       "\n",
       "    .dataframe thead th {\n",
       "        text-align: right;\n",
       "    }\n",
       "</style>\n",
       "<table border=\"1\" class=\"dataframe\">\n",
       "  <thead>\n",
       "    <tr style=\"text-align: right;\">\n",
       "      <th></th>\n",
       "      <th>video_id</th>\n",
       "      <th>channelTitle</th>\n",
       "      <th>title</th>\n",
       "      <th>description</th>\n",
       "      <th>tags</th>\n",
       "      <th>publishedAt</th>\n",
       "      <th>viewCount</th>\n",
       "      <th>likeCount</th>\n",
       "      <th>favouriteCount</th>\n",
       "      <th>commentCount</th>\n",
       "      <th>duration</th>\n",
       "      <th>definition</th>\n",
       "      <th>caption</th>\n",
       "    </tr>\n",
       "  </thead>\n",
       "  <tbody>\n",
       "    <tr>\n",
       "      <th>0</th>\n",
       "      <td>YiiYrdM7CGs</td>\n",
       "      <td>Ibai</td>\n",
       "      <td>Hello guys</td>\n",
       "      <td>MI CANAL DE DIRECTOS: https://www.youtube.com/...</td>\n",
       "      <td>[ibai, ibai llanos, reaccionando Ibai, Ibai re...</td>\n",
       "      <td>2024-11-20T16:00:28Z</td>\n",
       "      <td>1532</td>\n",
       "      <td>576</td>\n",
       "      <td>None</td>\n",
       "      <td>21</td>\n",
       "      <td>PT29S</td>\n",
       "      <td>hd</td>\n",
       "      <td>false</td>\n",
       "    </tr>\n",
       "    <tr>\n",
       "      <th>1</th>\n",
       "      <td>64BaBMUYiDg</td>\n",
       "      <td>Ibai</td>\n",
       "      <td>Día 80 de mi cambio físico</td>\n",
       "      <td>MI CANAL DE DIRECTOS: https://www.youtube.com/...</td>\n",
       "      <td>[ibai, ibai llanos, reaccionando Ibai, Ibai re...</td>\n",
       "      <td>2024-11-19T16:00:03Z</td>\n",
       "      <td>287412</td>\n",
       "      <td>33366</td>\n",
       "      <td>None</td>\n",
       "      <td>298</td>\n",
       "      <td>PT59S</td>\n",
       "      <td>hd</td>\n",
       "      <td>false</td>\n",
       "    </tr>\n",
       "    <tr>\n",
       "      <th>2</th>\n",
       "      <td>wxj-10sctYs</td>\n",
       "      <td>Ibai</td>\n",
       "      <td>Probando el desayuno militar</td>\n",
       "      <td>MI CANAL DE DIRECTOS: https://www.youtube.com/...</td>\n",
       "      <td>[ibai, ibai llanos, reaccionando Ibai, Ibai re...</td>\n",
       "      <td>2024-11-18T15:01:07Z</td>\n",
       "      <td>96952</td>\n",
       "      <td>7893</td>\n",
       "      <td>None</td>\n",
       "      <td>52</td>\n",
       "      <td>PT53S</td>\n",
       "      <td>hd</td>\n",
       "      <td>false</td>\n",
       "    </tr>\n",
       "    <tr>\n",
       "      <th>3</th>\n",
       "      <td>kXncKO2wedA</td>\n",
       "      <td>Ibai</td>\n",
       "      <td>PASÉ 24H HACIENDO LA DIETA MILITAR</td>\n",
       "      <td>MI CANAL DE DIRECTOS: https://www.youtube.com/...</td>\n",
       "      <td>[ibai, ibai llanos, reaccionando Ibai, Ibai re...</td>\n",
       "      <td>2024-11-16T21:06:44Z</td>\n",
       "      <td>1600288</td>\n",
       "      <td>74995</td>\n",
       "      <td>None</td>\n",
       "      <td>1053</td>\n",
       "      <td>PT17M44S</td>\n",
       "      <td>hd</td>\n",
       "      <td>false</td>\n",
       "    </tr>\n",
       "    <tr>\n",
       "      <th>4</th>\n",
       "      <td>lEop6nQ-Paw</td>\n",
       "      <td>Ibai</td>\n",
       "      <td>Día 79 de mi cambio físico</td>\n",
       "      <td>MI CANAL DE DIRECTOS: https://www.youtube.com/...</td>\n",
       "      <td>[ibai, ibai llanos, reaccionando Ibai, Ibai re...</td>\n",
       "      <td>2024-11-15T16:00:48Z</td>\n",
       "      <td>1248068</td>\n",
       "      <td>93553</td>\n",
       "      <td>None</td>\n",
       "      <td>1016</td>\n",
       "      <td>PT59S</td>\n",
       "      <td>hd</td>\n",
       "      <td>false</td>\n",
       "    </tr>\n",
       "  </tbody>\n",
       "</table>\n",
       "</div>"
      ],
      "text/plain": [
       "      video_id channelTitle                               title  \\\n",
       "0  YiiYrdM7CGs         Ibai                          Hello guys   \n",
       "1  64BaBMUYiDg         Ibai          Día 80 de mi cambio físico   \n",
       "2  wxj-10sctYs         Ibai        Probando el desayuno militar   \n",
       "3  kXncKO2wedA         Ibai  PASÉ 24H HACIENDO LA DIETA MILITAR   \n",
       "4  lEop6nQ-Paw         Ibai          Día 79 de mi cambio físico   \n",
       "\n",
       "                                         description  \\\n",
       "0  MI CANAL DE DIRECTOS: https://www.youtube.com/...   \n",
       "1  MI CANAL DE DIRECTOS: https://www.youtube.com/...   \n",
       "2  MI CANAL DE DIRECTOS: https://www.youtube.com/...   \n",
       "3  MI CANAL DE DIRECTOS: https://www.youtube.com/...   \n",
       "4  MI CANAL DE DIRECTOS: https://www.youtube.com/...   \n",
       "\n",
       "                                                tags           publishedAt  \\\n",
       "0  [ibai, ibai llanos, reaccionando Ibai, Ibai re...  2024-11-20T16:00:28Z   \n",
       "1  [ibai, ibai llanos, reaccionando Ibai, Ibai re...  2024-11-19T16:00:03Z   \n",
       "2  [ibai, ibai llanos, reaccionando Ibai, Ibai re...  2024-11-18T15:01:07Z   \n",
       "3  [ibai, ibai llanos, reaccionando Ibai, Ibai re...  2024-11-16T21:06:44Z   \n",
       "4  [ibai, ibai llanos, reaccionando Ibai, Ibai re...  2024-11-15T16:00:48Z   \n",
       "\n",
       "  viewCount likeCount favouriteCount commentCount  duration definition caption  \n",
       "0      1532       576           None           21     PT29S         hd   false  \n",
       "1    287412     33366           None          298     PT59S         hd   false  \n",
       "2     96952      7893           None           52     PT53S         hd   false  \n",
       "3   1600288     74995           None         1053  PT17M44S         hd   false  \n",
       "4   1248068     93553           None         1016     PT59S         hd   false  "
      ]
     },
     "execution_count": 71,
     "metadata": {},
     "output_type": "execute_result"
    }
   ],
   "source": [
    "video_df = get_video_details(youtube, video_ids)\n",
    "\n",
    "video_df"
   ]
  },
  {
   "cell_type": "markdown",
   "metadata": {},
   "source": [
    "### DATA PROCESSING \n"
   ]
  },
  {
   "cell_type": "code",
   "execution_count": null,
   "metadata": {},
   "outputs": [],
   "source": []
  }
 ],
 "metadata": {
  "kernelspec": {
   "display_name": "DataAnalysis",
   "language": "python",
   "name": "python3"
  },
  "language_info": {
   "codemirror_mode": {
    "name": "ipython",
    "version": 3
   },
   "file_extension": ".py",
   "mimetype": "text/x-python",
   "name": "python",
   "nbconvert_exporter": "python",
   "pygments_lexer": "ipython3",
   "version": "3.12.4"
  }
 },
 "nbformat": 4,
 "nbformat_minor": 2
}
